{
 "cells": [
  {
   "cell_type": "code",
   "execution_count": 1,
   "metadata": {},
   "outputs": [],
   "source": [
    "from ipywidgets import interact, interactive, fixed, interact_manual\n",
    "import ipywidgets as widgets\n",
    "from IPython.display import display\n",
    "\n",
    "import numpy as np\n",
    "import math\n",
    "import cmath\n",
    "import matplotlib.pyplot as plt\n",
    "from numba import jit\n",
    "from scipy import interpolate\n",
    "from scipy import integrate\n",
    "from scipy import special"
   ]
  },
  {
   "cell_type": "code",
   "execution_count": 2,
   "metadata": {},
   "outputs": [],
   "source": [
    "# common, fixed parameters:\n",
    "#Morse parameters:\n",
    "D=0.475217 # well depth in Hartree\n",
    "alpha=1.17199002  # anharmonicity\n",
    "mu=12178.1624678 # reduced mass\n",
    "omega=math.sqrt(2.0*D*alpha**2.0/mu) # parameterized to follow CO stretch frequency\n",
    "\n",
    "adiabatic_gap=3.0/27.2114 # energy difference between 2 surfaces\n",
    "sigma_sq=(0.2*omega)*(0.1*omega) # gaussian broadening parameter, 2/10 of frequency\n",
    "max_v=25 # maximum vibrational frequency considered\n",
    "\n",
    "num_points=200  # number of points over which Morse Wfn is integrated\n",
    "\n",
    "N_samples=500\n",
    "x=np.linspace(adiabatic_gap-5.0*omega,adiabatic_gap+20.0*omega,N_samples)\n"
   ]
  },
  {
   "cell_type": "code",
   "execution_count": 17,
   "metadata": {},
   "outputs": [],
   "source": [
    "# Define functions:\n",
    "def zero_temp_FC_fac(Delta_sq,v):\n",
    "    return 1.0/np.math.factorial(v)*np.power(Delta_sq/2.0,v)*np.exp(-Delta_sq/2.0)\n",
    "\n",
    "def gaussian_func(sigma_sq,shift,x):\n",
    "    return 1.0/np.sqrt(2.0*np.pi*sigma_sq)*np.exp(-np.power(x-shift,2)/(2.0*sigma_sq))\n",
    "\n",
    "# full FC spectrum\n",
    "def zero_temp_FC_sum(Delta_sq,adiabatic_gap,omega,sigma_sq,max_v,x):\n",
    "    y_val=np.zeros(x.shape[0])\n",
    "    for i in range(max_v):\n",
    "        y_val=y_val+zero_temp_FC_fac(Delta_sq,i)*gaussian_func(sigma_sq,adiabatic_gap+omega*i*1.0,x)\n",
    "    return y_val\n",
    "\n",
    "def zero_temp_FC_sum_emission(Delta_sq,adiabatic_gap,omega,sigma_sq,max_v,solvent_reorg,x):\n",
    "    y_val=np.zeros(x.shape[0])\n",
    "    for i in range(max_v):\n",
    "        y_val=y_val+zero_temp_FC_fac(Delta_sq,i)*gaussian_func(sigma_sq,adiabatic_gap-omega*i*1.0-2.0*solvent_reorg,x)\n",
    "    return y_val\n",
    "\n",
    "# full Morse sepctrum:\n",
    "def zero_temp_Morse_sum(Delta_sq,num_points,D,alpha,mu,omega,sigma_sq,max_v, adiabatic_gap,x):\n",
    "    eff_displacement=Delta_sq\n",
    "    y_val=np.zeros(x.shape[0])\n",
    "    fc_facs,energies=compute_morse_fc_facs_energies(num_points,D,alpha,mu,omega,eff_displacement,max_v)\n",
    "    for i in range(max_v):\n",
    "        y_val=y_val+fc_facs[i]*fc_facs[i]*gaussian_func(sigma_sq,energies[i]+adiabatic_gap,x)\n",
    "    return y_val\n",
    "\n",
    "# functions for Morse osc\n",
    "@jit(fastmath=True)\n",
    "def compute_morse_eval_n(omega,D,n):\n",
    "    return omega*(n+0.5)-(omega*(n+0.5))**2.0/(4.0*D)\n",
    "  \n",
    "@jit(fastmath=True)\n",
    "def morse_eval_diff(omega,D,n):\n",
    "    return compute_morse_eval_n(omega,D,n)-compute_morse_eval_n(omega,D,0)\n",
    "\n",
    "# compute wavefunction of morse oscillator.\n",
    "def compute_wavefunction_n(num_points, start_point,end_point,D,alpha,mu,n,shift):\n",
    "    # first start by filling array with position points:\n",
    "    wavefunc=np.zeros((num_points,2))\n",
    "    lamda=math.sqrt(2.0*D*mu)/(alpha)\n",
    "    step_x=(end_point-start_point)/num_points\n",
    "    denom=special.gamma(2.0*lamda-n)\n",
    "    if np.isinf(denom):\n",
    "        denom=10e280\n",
    "    num=(math.factorial(n)*(2.0*lamda-2.0*n-1.0))\n",
    "    normalization=math.sqrt(num/denom)\n",
    "    counter=0\n",
    "    for x in wavefunc:\n",
    "        x[0]=start_point+counter*step_x\n",
    "        r_val=(start_point+counter*step_x)*alpha\n",
    "        r_shift_val=(shift)*alpha\n",
    "        z_val=2.0*lamda*math.exp(-(r_val-r_shift_val))\n",
    "        func_val=normalization*z_val**(lamda-n-0.5)*math.exp(-0.5*z_val)*special.assoc_laguerre(z_val,n,2.0*lamda-2.0*n-1.0)\n",
    "        x[1]=func_val\n",
    "        counter=counter+1\n",
    "\n",
    "    # fix normalization regardless of value of denominator to avoid rounding errors\n",
    "    wavefunc_sq=np.zeros(wavefunc.shape[0])\n",
    "    wavefunc_sq[:]=wavefunc[:,1]*wavefunc[:,1]\n",
    "\n",
    "    normalization=integrate.simps(wavefunc_sq,dx=step_x)\n",
    "    for counter in range(wavefunc.shape[0]):\n",
    "        wavefunc[counter,1]=wavefunc[counter,1]/math.sqrt(normalization)\n",
    "\n",
    "    return wavefunc\n",
    "\n",
    "def find_classical_turning_points_morse(max_v,omega,alpha,D,Delta_sq):\n",
    "        E_max_gs=compute_morse_eval_n(omega,D,max_v) # compute the energies for the highest energy morse \n",
    "        E_max_ex=compute_morse_eval_n(omega,D,max_v) # state considered\n",
    "\n",
    "        # find the two classical turning points for the ground state PES\n",
    "        point1_gs=math.log(math.sqrt(E_max_gs/D)+1.0)/(-alpha)\n",
    "        point2_gs=math.log(-math.sqrt(E_max_gs/D)+1.0)/(-alpha)\n",
    "\n",
    "        # same for excited state. Include shift vector\n",
    "        point1_ex=math.log(math.sqrt(E_max_ex/D)+1.0)/(-alpha)+Delta_sq\n",
    "        point2_ex=math.log(-math.sqrt(E_max_ex/D)+1.0)/(-alpha)+Delta_sq\n",
    "\n",
    "        # now find the smallest value and the largest value\n",
    "        start_point=min(point1_gs,point2_gs)\n",
    "        end_point=max(point1_ex,point2_ex)\n",
    "\n",
    "        return start_point,end_point\n",
    "\n",
    "def compute_morse_fc_facs_energies(num_points,D,alpha,mu,omega,Delta_sq,max_v):\n",
    "    fc_facs=np.zeros(max_v)\n",
    "    energies=np.zeros(max_v)\n",
    "    start_point,end_point=find_classical_turning_points_morse(max_v,omega,alpha,D,Delta_sq)\n",
    "    gs_func=compute_wavefunction_n(num_points, start_point,end_point,D,alpha,mu,0,0.0)\n",
    "    for i in range(max_v):\n",
    "        ex_func=compute_wavefunction_n(num_points, start_point,end_point,D,alpha,mu,i,Delta_sq)\n",
    "        tot_func=ex_func\n",
    "        tot_func[:,1]=ex_func[:,1]*gs_func[:,1]\n",
    "        fc_facs[i]=integrate.simps(tot_func[:,1],dx=tot_func[1,0]-tot_func[0,0])\n",
    "        energies[i]=morse_eval_diff(omega,D,i)\n",
    "    return fc_facs, energies\n",
    "\n"
   ]
  },
  {
   "cell_type": "code",
   "execution_count": 18,
   "metadata": {},
   "outputs": [],
   "source": [
    "# define plotting function Franck-Condon harmonic:\n",
    "def plt_zero_temp_FC(Displacement):\n",
    "    # Delta_sq=mu*omega/(2pi*hbar)*displacement^2\n",
    "    y=zero_temp_FC_sum(Displacement**2.0*omega*mu,adiabatic_gap,omega,sigma_sq,max_v,x)\n",
    "    fig, (ax1, ax2) = plt.subplots(1,2)\n",
    "    ax1.set(xlabel='Energy (eV)', ylabel='Absorbance (arb. units)')\n",
    "    fig.set_size_inches(14, 6)\n",
    "    ax1.plot(x*27.2114,y,c='k',lw=3,label='Zero temperature spectrum')\n",
    "    ax1.legend()\n",
    "    q_vals=np.linspace(-1.0,1.0,N_samples)\n",
    "    V_gs=1.0/2.0*mu*omega**2.0*(q_vals)**2.0\n",
    "    V_ex=adiabatic_gap+1.0/2.0*mu*omega**2.0*(q_vals-Displacement)**2.0\n",
    "    \n",
    "    ax2.set(xlabel='Displacement (Ang)', ylabel='Energy (eV)')\n",
    "    ax2.plot(q_vals*0.529177,V_gs*27.2114,lw=3,label='V_gs')\n",
    "    ax2.plot(q_vals*0.529177,V_ex*27.2114,lw=3,label='V_ex')\n",
    "    plt.legend()\n",
    "    \n",
    "    return y\n",
    "\n",
    "# define plotting function Franck-Condon harmonic:\n",
    "def plt_zero_temp_Morse(Displacement):\n",
    "    y=zero_temp_Morse_sum(Displacement,num_points,D,alpha,mu,omega,sigma_sq,max_v, adiabatic_gap,x)\n",
    "    y2=zero_temp_FC_sum(Displacement**2.0*omega*mu,adiabatic_gap,omega,sigma_sq,max_v,x)\n",
    "    fig, (ax1, ax2) = plt.subplots(1,2)\n",
    "    ax1.set(xlabel='Energy (eV)', ylabel='Absorbance (arb. units)')\n",
    "    fig.set_size_inches(14, 6)\n",
    "    ax1.plot(x*27.2114,y,c='r',lw=3, label='Zero temperature Morse')\n",
    "    ax1.plot(x*27.2114,y2,c='k',lw=3, label='Zero temperature Harmonic')\n",
    "    ax1.legend()\n",
    "    q_vals=np.linspace(-0.4,0.8,N_samples)\n",
    "    V_gs=1.0/2.0*mu*omega**2.0*(q_vals)**2.0\n",
    "    V_gs_morse=D*(1.0-np.exp(-alpha*q_vals))**2.0\n",
    "    V_ex_morse=adiabatic_gap+D*(1.0-np.exp(-alpha*(q_vals-Displacement)))**2.0\n",
    "    V_ex=adiabatic_gap+1.0/2.0*mu*omega**2.0*(q_vals-Displacement)**2.0\n",
    "    \n",
    "    ax2.set(xlabel='Displacement (Ang)', ylabel='Energy (eV)')\n",
    "    ax2.plot(q_vals*0.529177,V_gs*27.2114,lw=3,label='V_gs_harmonic')\n",
    "    ax2.plot(q_vals*0.529177,V_ex*27.2114,lw=3,label='V_ex_harmonic')\n",
    "    ax2.plot(q_vals*0.529177,V_gs_morse*27.2114,'--',lw=3,label='V_gs_morse')\n",
    "    ax2.plot(q_vals*0.529177,V_ex_morse*27.2114,'--',lw=3,label='V_ex_morse')\n",
    "    ax2.legend()\n",
    "    \n",
    "    return y"
   ]
  },
  {
   "cell_type": "markdown",
   "metadata": {},
   "source": [
    "# Electronic absorption spectrum for a simple displaced harmonic oscillator at T=0\n",
    "\n",
    "At zero temperature, only the lowest vibrational level on the ground state potential energy surface is occupied and the electronic absorption spectrum reduces to a simple sum over final states. \n",
    "\n",
    "$I(\\omega)\\propto \\omega|\\mu_{01}|^2\\sum_{v'}|\\langle 0|v'\\rangle|^2\\delta(\\omega-(E_{v'}-E_{v=0})/\\hbar)$\n",
    "\n",
    "The Franck-Condon integrals for the harmonic oscillator can be evaluated analytically, such that the spectrum can be written as:\n",
    "\n",
    "$I(\\omega)\\propto \\omega|\\mu_{01}|^2\\sum_{v'}\\frac{1}{v'!}\\left(\\frac{\\Delta^2}{2}\\right)^{v'}e^{-\\Delta^2/2}\\delta(\\omega-(E_{v'}-E_{v=0})/\\hbar)$\n",
    "\n",
    "where $\\Delta\\propto \\sqrt{\\omega_0}(R_e-R_e')$.\n",
    "\n",
    "Below you find the absorption spectrum for a displaced harmonic oscillator modelled after the ground state PES of CO.\n",
    "* How does the spectrum change with increasing displacement?\n",
    "* What happens at very large displacement? Is this realistic? \n",
    "\n"
   ]
  },
  {
   "cell_type": "code",
   "execution_count": 19,
   "metadata": {
    "scrolled": false
   },
   "outputs": [
    {
     "data": {
      "application/vnd.jupyter.widget-view+json": {
       "model_id": "1ca8b9f6aa3845d390548612511561ad",
       "version_major": 2,
       "version_minor": 0
      },
      "text/plain": [
       "interactive(children=(FloatSlider(value=0.17, description='Displacement', max=0.35, step=0.01), Output()), _do…"
      ]
     },
     "metadata": {},
     "output_type": "display_data"
    }
   ],
   "source": [
    "# now start interactive plotting\n",
    "y=interactive(plt_zero_temp_FC,Displacement=(0.0,0.35,0.01))\n",
    "display(y)"
   ]
  },
  {
   "cell_type": "markdown",
   "metadata": {},
   "source": [
    "# The role of anharmonicity: The displaced Morse oscillator\n",
    "\n",
    "Below you find the absorption spectrum for a displaced Morse oscillator modelled after the ground state PES of CO, in comparison with the corresponding harmonic oscillator.\n",
    "\n",
    "* What are the differences between the Morse and the harmonic spectrum? How are they related to the shape of the PES and the displacement?\n",
    "* What happens to the Morse spectrum at large displacement?"
   ]
  },
  {
   "cell_type": "code",
   "execution_count": 20,
   "metadata": {
    "scrolled": false
   },
   "outputs": [
    {
     "data": {
      "application/vnd.jupyter.widget-view+json": {
       "model_id": "578dfcbbc7cf464cb9864ba9c0cec156",
       "version_major": 2,
       "version_minor": 0
      },
      "text/plain": [
       "interactive(children=(FloatSlider(value=0.17, description='Displacement', max=0.35, step=0.01), Output()), _do…"
      ]
     },
     "metadata": {},
     "output_type": "display_data"
    }
   ],
   "source": [
    "y=interactive(plt_zero_temp_Morse,Displacement=(0.0,0.35,0.01))\n",
    "display(y)"
   ]
  },
  {
   "cell_type": "code",
   "execution_count": 7,
   "metadata": {},
   "outputs": [],
   "source": [
    "# exact lineshape function in the 2nd order cumulant approximation for a single mode with equal ground and excited \n",
    "# state harmonic frequencies\n",
    "def response_func(K,omega,kbT,adiabatic_gap,sigma_sq,t_vals): \n",
    "    n=1.0/(np.exp(omega/kbT)-1.0)\n",
    "    m=n+1.0\n",
    "    chi=np.zeros((t_vals.shape[0],2),dtype=np.complex_)\n",
    "    g=np.zeros(t_vals.shape[0],dtype=np.complex_)\n",
    "    av_energy_gap=adiabatic_gap+1.0/2.0*(K*omega)**2.0\n",
    "    for i in range(t_vals.shape[0]):\n",
    "        g=K**2.0*omega/(2.0)*(2.0*n+1.0-1j*omega*t_vals[i]-m*cmath.exp(-1j*omega*t_vals[i])-n*cmath.exp(1j*omega*t_vals[i]))\n",
    "        chi[i,1]=cmath.exp(-g)*cmath.exp(-sigma_sq*t_vals[i]**2.0/2.0)\n",
    "        chi[i,0]=t_vals[i]\n",
    "    return chi,av_energy_gap\n",
    "\n",
    "@jit\n",
    "def full_spectrum_integrant(chi,E_val):\n",
    "    integrant=np.zeros(chi.shape[0])\n",
    "    counter=0\n",
    "    while counter<integrant.shape[0]:\n",
    "        integrant[counter]=(chi[counter,1]*cmath.exp(1j*chi[counter,0]*E_val)).real\n",
    "        counter=counter+1\n",
    "    return integrant\n",
    "\n",
    "def finite_temp_fc_spec(T,K,omega,adiabatic_gap,sigma_sq,x):\n",
    "    kbT=T*8.6173303*10.0**(-5.0)/27.211396132 # kbT in hartree\n",
    "    max_t=300.0/(2.418884326505*10.0**(-2.0)) # 500 fs in hartree\n",
    "    t_vals=np.linspace(0.0,max_t,num_points*10)\n",
    "    chi,av_energy_gap=response_func(K,omega,kbT,adiabatic_gap,sigma_sq,t_vals)\n",
    "    spectrum=np.zeros(x.shape[0])\n",
    "    i=0\n",
    "    for energy in x:\n",
    "        integrant=full_spectrum_integrant(chi,energy-av_energy_gap)\n",
    "        spectrum[i]=integrate.simps(integrant,dx=chi[1,0].real-chi[0,0].real)\n",
    "        i=i+1\n",
    "    return spectrum"
   ]
  },
  {
   "cell_type": "code",
   "execution_count": 15,
   "metadata": {},
   "outputs": [],
   "source": [
    "def plt_finite_temp_FC(Displacement,Temperature):\n",
    "    # Delta_sq=mu*omega/(2pi*hbar)*displacement^2\n",
    "    y=finite_temp_fc_spec(Temperature,Displacement*110.0,omega,adiabatic_gap,sigma_sq,x)\n",
    "    y2=zero_temp_FC_sum(Displacement**2.0*omega*mu,adiabatic_gap,omega,sigma_sq,max_v,x)\n",
    "    fig, (ax1, ax2) = plt.subplots(1,2)\n",
    "    ax1.set(xlabel='Energy (eV)', ylabel='Absorbance (arb. units)')\n",
    "    fig.set_size_inches(14, 6)\n",
    "    l1=ax1.plot(x*27.2114,y/math.sqrt(2.0*math.pi)*0.8,c='r',lw=3,label='Finite temperature')\n",
    "    l2=ax1.plot(x*27.2114,y2,lw=3,c='k', label='Zero temperature')\n",
    "    ax1.legend()\n",
    "    q_vals=np.linspace(-1.0,1.0,N_samples)\n",
    "    V_gs=1.0/2.0*mu*omega**2.0*(q_vals)**2.0\n",
    "    V_ex=adiabatic_gap+1.0/2.0*mu*omega**2.0*(q_vals-Displacement)**2.0\n",
    "    \n",
    "    ax2.set(xlabel='Displacement (Ang)', ylabel='Energy (eV)')\n",
    "    ax2.plot(q_vals*0.529177,V_gs*27.2114,lw=3,label='V_gs')\n",
    "    ax2.plot(q_vals*0.529177,V_ex*27.2114,lw=3,label='V_ex')\n",
    "    ax2.legend()\n",
    "    \n",
    "    return y"
   ]
  },
  {
   "cell_type": "markdown",
   "metadata": {},
   "source": [
    "# Temperature effects in electronic absorption spectra\n",
    "\n",
    "To include temperature effects, we have to expand our sum over final states to a sum over both intital and final states, with a Boltzmann weighting for the initial states. \n",
    "\n",
    "$I(\\omega)\\propto \\omega|\\mu_{01}|^2\\sum_ve^{-\\frac{E_v}{k_\\textrm{B}T}}\\sum_{v'}|\\langle v|v'\\rangle|^2\\delta(\\omega-(E_{v'}-E_v)/\\hbar)$\n",
    "\n",
    "* Is the zero temperature approximation a good approximation for CO?\n",
    "* What is the effect of temperature at low values of T?\n",
    "* What happens to the spectrum at very high values of T? "
   ]
  },
  {
   "cell_type": "code",
   "execution_count": 16,
   "metadata": {},
   "outputs": [
    {
     "data": {
      "application/vnd.jupyter.widget-view+json": {
       "model_id": "6e5bb57f1984445cb88af284de643be4",
       "version_major": 2,
       "version_minor": 0
      },
      "text/plain": [
       "interactive(children=(FloatSlider(value=0.15, description='Displacement', max=0.3, step=0.01), IntSlider(value…"
      ]
     },
     "metadata": {},
     "output_type": "display_data"
    }
   ],
   "source": [
    "y=interactive(plt_finite_temp_FC,Displacement=(0.0,0.3,0.01),Temperature=(10,5000,50))\n",
    "display(y)"
   ]
  },
  {
   "cell_type": "code",
   "execution_count": 21,
   "metadata": {},
   "outputs": [],
   "source": [
    "def plt_zero_temp_FC_emission(Displacement,Ex_Frequency):\n",
    "    # Delta_sq=mu*omega/(2pi*hbar)*displacement^2\n",
    "    omega_ex=omega*Ex_Frequency\n",
    "    solvent_reorg=0.0\n",
    "    y=zero_temp_FC_sum_emission(Displacement**2.0*omega*mu,adiabatic_gap,omega,sigma_sq,max_v,solvent_reorg,x)\n",
    "    y2=zero_temp_FC_sum(Displacement**2.0*omega_ex*mu,adiabatic_gap,omega_ex,sigma_sq,max_v,x)\n",
    "    fig, (ax1, ax2) = plt.subplots(1,2)\n",
    "    ax1.set(xlabel='Energy (eV)', ylabel='Absorbance (arb. units)')\n",
    "    fig.set_size_inches(14, 6)\n",
    "    l1=ax1.plot(x*27.2114,y,c='r',lw=3,label='Emission')\n",
    "    l2=ax1.plot(x*27.2114,y2,lw=3,c='k', label='Absorption')\n",
    "    ax1.legend()\n",
    "    q_vals=np.linspace(-1.0,1.0,N_samples)\n",
    "    V_gs=1.0/2.0*mu*omega**2.0*(q_vals)**2.0\n",
    "    V_ex=adiabatic_gap+1.0/2.0*mu*omega_ex**2.0*(q_vals-Displacement)**2.0\n",
    "    \n",
    "    ax2.set(xlabel='Displacement (Ang)', ylabel='Energy (eV)')\n",
    "    ax2.plot(q_vals*0.529177,V_gs*27.2114,lw=3,label='V_gs')\n",
    "    ax2.plot(q_vals*0.529177,V_ex*27.2114,lw=3,label='V_ex')\n",
    "    ax2.legend()\n",
    "    \n",
    "    return y"
   ]
  },
  {
   "cell_type": "markdown",
   "metadata": {},
   "source": [
    "# Absorption and emission lineshapes for the simple harmonic oscillator\n",
    "\n",
    "Below are the absorption and emission lineshapes for the simple displaced harmonic oscillator. Both the displacement and the excited state curvature relative to the ground state curvature of the PES can be varied ($\\omega_\\textrm{e}=\\delta\\omega_\\textrm{g}$ and $\\delta$ can be varied from 0.5 to 1.5). \n",
    "\n",
    "Some questions for you to think about:\n",
    "* What is the shape of the emission spectrum in comparison to the absorption spectrum if $\\delta=1$, ie the ground and excited state frequencies are identical?\n",
    "* How do the shapes change if $\\delta<1$? How do they change for $\\delta<1$?\n",
    "* Can you explain why the lowest absorption peak and the highest emission peak have the same energy?"
   ]
  },
  {
   "cell_type": "code",
   "execution_count": 22,
   "metadata": {},
   "outputs": [
    {
     "data": {
      "application/vnd.jupyter.widget-view+json": {
       "model_id": "8122757a4f3c41f79e28edef900b3b35",
       "version_major": 2,
       "version_minor": 0
      },
      "text/plain": [
       "interactive(children=(FloatSlider(value=0.15, description='Displacement', max=0.3, step=0.01), FloatSlider(val…"
      ]
     },
     "metadata": {},
     "output_type": "display_data"
    }
   ],
   "source": [
    "x=np.linspace(adiabatic_gap-12.0*omega,adiabatic_gap+12.0*omega,N_samples)\n",
    "y=interactive(plt_zero_temp_FC_emission,Displacement=(0.0,0.3,0.01),Ex_Frequency=(0.5,1.5,0.05))\n",
    "display(y)"
   ]
  },
  {
   "cell_type": "code",
   "execution_count": 30,
   "metadata": {},
   "outputs": [],
   "source": [
    "def plt_zero_temp_FC_emission_with_solvent(Displacement,Ex_Frequency,solvent_reorg):\n",
    "    T=300.0\n",
    "    kbT=T*8.6173303*10.0**(-5.0)/27.211396132\n",
    "    sigma_sq=2.0*kbT*solvent_reorg\n",
    "    # Delta_sq=mu*omega/(2pi*hbar)*displacement^2\n",
    "    omega_ex=omega*Ex_Frequency\n",
    "    y=zero_temp_FC_sum_emission(Displacement**2.0*omega*mu,adiabatic_gap,omega,sigma_sq,max_v,solvent_reorg,x)\n",
    "    y2=zero_temp_FC_sum(Displacement**2.0*omega_ex*mu,adiabatic_gap,omega_ex,sigma_sq,max_v,x)\n",
    "    fig, (ax1, ax2) = plt.subplots(1,2)\n",
    "    ax1.set(xlabel='Energy (eV)', ylabel='Absorbance (arb. units)')\n",
    "    fig.set_size_inches(14, 6)\n",
    "    l1=ax1.plot(x*27.2114,y,c='r',lw=3,label='Emission')\n",
    "    l2=ax1.plot(x*27.2114,y2,lw=3,c='k', label='Absorption')\n",
    "    ax1.legend()\n",
    "    q_vals=np.linspace(-1.0,1.0,N_samples)\n",
    "    V_gs=1.0/2.0*mu*omega**2.0*(q_vals)**2.0\n",
    "    V_ex=adiabatic_gap+1.0/2.0*mu*omega_ex**2.0*(q_vals-Displacement)**2.0\n",
    "    \n",
    "    ax2.set(xlabel='Displacement (Ang)', ylabel='Energy (eV)')\n",
    "    ax2.plot(q_vals*0.529177,V_gs*27.2114,lw=3,label='V_gs')\n",
    "    ax2.plot(q_vals*0.529177,V_ex*27.2114,lw=3,label='V_ex')\n",
    "    ax2.legend()\n",
    "    \n",
    "    return y"
   ]
  },
  {
   "cell_type": "markdown",
   "metadata": {},
   "source": [
    "# Absorption and emission lineshapes for the simple harmonic oscillator\n",
    "\n",
    "Below are the absorption and emission lineshapes for the simple displaced harmonic oscillator including solvent broadening described by the solvent reorganization energy. The displacement, the excited state curvature relative to the ground state curvature of the PES and the solvent reorganization energy (in Ha) can all be varied. \n",
    "\n",
    "Some questions for you to think about:\n",
    "* For very small solvent reorganization energies, what happens to the distance between the lowest absorption and highest emission peak?\n",
    "* What is the difference between the Stokes shift and the distance between the lowest absorption and highest emission peak? How does the solvent reorganization energy relate to the Stokes shift.\n",
    "* From this simple model system, explain whether you would expect the absorption and emission spectrum of a dye in water to show a lot of vibronic fine structure. How about the same dye in Hexane?"
   ]
  },
  {
   "cell_type": "code",
   "execution_count": 31,
   "metadata": {},
   "outputs": [
    {
     "data": {
      "application/vnd.jupyter.widget-view+json": {
       "model_id": "81c55ab536584322ae9f60b2d28ad885",
       "version_major": 2,
       "version_minor": 0
      },
      "text/plain": [
       "interactive(children=(FloatSlider(value=0.15, description='Displacement', max=0.3, step=0.01), FloatSlider(val…"
      ]
     },
     "metadata": {},
     "output_type": "display_data"
    }
   ],
   "source": [
    "y=interactive(plt_zero_temp_FC_emission_with_solvent,Displacement=(0.0,0.3,0.01),Ex_Frequency=(0.5,1.5,0.05),\n",
    "              solvent_reorg=(0.001,0.03,0.0002))\n",
    "display(y)"
   ]
  },
  {
   "cell_type": "code",
   "execution_count": null,
   "metadata": {},
   "outputs": [],
   "source": []
  },
  {
   "cell_type": "code",
   "execution_count": null,
   "metadata": {},
   "outputs": [],
   "source": []
  },
  {
   "cell_type": "code",
   "execution_count": null,
   "metadata": {},
   "outputs": [],
   "source": []
  }
 ],
 "metadata": {
  "kernelspec": {
   "display_name": "Python 3",
   "language": "python",
   "name": "python3"
  },
  "language_info": {
   "codemirror_mode": {
    "name": "ipython",
    "version": 3
   },
   "file_extension": ".py",
   "mimetype": "text/x-python",
   "name": "python",
   "nbconvert_exporter": "python",
   "pygments_lexer": "ipython3",
   "version": "3.8.5"
  }
 },
 "nbformat": 4,
 "nbformat_minor": 4
}
